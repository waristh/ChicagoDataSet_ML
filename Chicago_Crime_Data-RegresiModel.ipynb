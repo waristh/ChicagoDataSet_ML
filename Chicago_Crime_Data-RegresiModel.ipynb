{
 "cells": [
  {
   "cell_type": "code",
   "execution_count": 1,
   "metadata": {},
   "outputs": [],
   "source": [
    "import pandas as pd"
   ]
  },
  {
   "cell_type": "code",
   "execution_count": 2,
   "metadata": {},
   "outputs": [],
   "source": [
    "df = pd.read_csv('Census_Data_-_Selected_socioeconomic_indicators_in_Chicago__2008___2012-v2.csv',sep=',')"
   ]
  },
  {
   "cell_type": "code",
   "execution_count": 3,
   "metadata": {},
   "outputs": [
    {
     "data": {
      "text/html": [
       "<div>\n",
       "<style scoped>\n",
       "    .dataframe tbody tr th:only-of-type {\n",
       "        vertical-align: middle;\n",
       "    }\n",
       "\n",
       "    .dataframe tbody tr th {\n",
       "        vertical-align: top;\n",
       "    }\n",
       "\n",
       "    .dataframe thead th {\n",
       "        text-align: right;\n",
       "    }\n",
       "</style>\n",
       "<table border=\"1\" class=\"dataframe\">\n",
       "  <thead>\n",
       "    <tr style=\"text-align: right;\">\n",
       "      <th></th>\n",
       "      <th>COMMUNITY_AREA_NUMBER</th>\n",
       "      <th>COMMUNITY_AREA_NAME</th>\n",
       "      <th>PERCENT OF HOUSING CROWDED</th>\n",
       "      <th>PERCENT HOUSEHOLDS BELOW POVERTY</th>\n",
       "      <th>PERCENT AGED 16+ UNEMPLOYED</th>\n",
       "      <th>PERCENT AGED 25+ WITHOUT HIGH SCHOOL DIPLOMA</th>\n",
       "      <th>PERCENT AGED UNDER 18 OR OVER 64</th>\n",
       "      <th>PER_CAPITA_INCOME</th>\n",
       "      <th>HARDSHIP_INDEX</th>\n",
       "    </tr>\n",
       "  </thead>\n",
       "  <tbody>\n",
       "    <tr>\n",
       "      <th>73</th>\n",
       "      <td>74.0</td>\n",
       "      <td>Mount Greenwood</td>\n",
       "      <td>1.0</td>\n",
       "      <td>3.4</td>\n",
       "      <td>8.7</td>\n",
       "      <td>4.3</td>\n",
       "      <td>36.8</td>\n",
       "      <td>34381</td>\n",
       "      <td>16.0</td>\n",
       "    </tr>\n",
       "    <tr>\n",
       "      <th>74</th>\n",
       "      <td>75.0</td>\n",
       "      <td>Morgan Park</td>\n",
       "      <td>0.8</td>\n",
       "      <td>13.2</td>\n",
       "      <td>15.0</td>\n",
       "      <td>10.8</td>\n",
       "      <td>40.3</td>\n",
       "      <td>27149</td>\n",
       "      <td>30.0</td>\n",
       "    </tr>\n",
       "    <tr>\n",
       "      <th>75</th>\n",
       "      <td>76.0</td>\n",
       "      <td>O'Hare</td>\n",
       "      <td>3.6</td>\n",
       "      <td>15.4</td>\n",
       "      <td>7.1</td>\n",
       "      <td>10.9</td>\n",
       "      <td>30.3</td>\n",
       "      <td>25828</td>\n",
       "      <td>24.0</td>\n",
       "    </tr>\n",
       "    <tr>\n",
       "      <th>76</th>\n",
       "      <td>77.0</td>\n",
       "      <td>Edgewater</td>\n",
       "      <td>4.1</td>\n",
       "      <td>18.2</td>\n",
       "      <td>9.2</td>\n",
       "      <td>9.7</td>\n",
       "      <td>23.8</td>\n",
       "      <td>33385</td>\n",
       "      <td>19.0</td>\n",
       "    </tr>\n",
       "    <tr>\n",
       "      <th>77</th>\n",
       "      <td>NaN</td>\n",
       "      <td>CHICAGO</td>\n",
       "      <td>4.7</td>\n",
       "      <td>19.7</td>\n",
       "      <td>12.9</td>\n",
       "      <td>19.5</td>\n",
       "      <td>33.5</td>\n",
       "      <td>28202</td>\n",
       "      <td>NaN</td>\n",
       "    </tr>\n",
       "  </tbody>\n",
       "</table>\n",
       "</div>"
      ],
      "text/plain": [
       "    COMMUNITY_AREA_NUMBER COMMUNITY_AREA_NAME  PERCENT OF HOUSING CROWDED  \\\n",
       "73                   74.0     Mount Greenwood                         1.0   \n",
       "74                   75.0         Morgan Park                         0.8   \n",
       "75                   76.0              O'Hare                         3.6   \n",
       "76                   77.0           Edgewater                         4.1   \n",
       "77                    NaN             CHICAGO                         4.7   \n",
       "\n",
       "    PERCENT HOUSEHOLDS BELOW POVERTY  PERCENT AGED 16+ UNEMPLOYED  \\\n",
       "73                               3.4                          8.7   \n",
       "74                              13.2                         15.0   \n",
       "75                              15.4                          7.1   \n",
       "76                              18.2                          9.2   \n",
       "77                              19.7                         12.9   \n",
       "\n",
       "    PERCENT AGED 25+ WITHOUT HIGH SCHOOL DIPLOMA  \\\n",
       "73                                           4.3   \n",
       "74                                          10.8   \n",
       "75                                          10.9   \n",
       "76                                           9.7   \n",
       "77                                          19.5   \n",
       "\n",
       "    PERCENT AGED UNDER 18 OR OVER 64  PER_CAPITA_INCOME   HARDSHIP_INDEX  \n",
       "73                              36.8               34381            16.0  \n",
       "74                              40.3               27149            30.0  \n",
       "75                              30.3               25828            24.0  \n",
       "76                              23.8               33385            19.0  \n",
       "77                              33.5               28202             NaN  "
      ]
     },
     "execution_count": 3,
     "metadata": {},
     "output_type": "execute_result"
    }
   ],
   "source": [
    "df.tail()"
   ]
  },
  {
   "cell_type": "code",
   "execution_count": 4,
   "metadata": {},
   "outputs": [
    {
     "data": {
      "text/plain": [
       "(78, 9)"
      ]
     },
     "execution_count": 4,
     "metadata": {},
     "output_type": "execute_result"
    }
   ],
   "source": [
    "df.shape"
   ]
  },
  {
   "cell_type": "code",
   "execution_count": 5,
   "metadata": {},
   "outputs": [
    {
     "data": {
      "text/html": [
       "<div>\n",
       "<style scoped>\n",
       "    .dataframe tbody tr th:only-of-type {\n",
       "        vertical-align: middle;\n",
       "    }\n",
       "\n",
       "    .dataframe tbody tr th {\n",
       "        vertical-align: top;\n",
       "    }\n",
       "\n",
       "    .dataframe thead th {\n",
       "        text-align: right;\n",
       "    }\n",
       "</style>\n",
       "<table border=\"1\" class=\"dataframe\">\n",
       "  <thead>\n",
       "    <tr style=\"text-align: right;\">\n",
       "      <th></th>\n",
       "      <th>COMMUNITY_AREA_NUMBER</th>\n",
       "      <th>PERCENT OF HOUSING CROWDED</th>\n",
       "      <th>PERCENT HOUSEHOLDS BELOW POVERTY</th>\n",
       "      <th>PERCENT AGED 16+ UNEMPLOYED</th>\n",
       "      <th>PERCENT AGED 25+ WITHOUT HIGH SCHOOL DIPLOMA</th>\n",
       "      <th>PERCENT AGED UNDER 18 OR OVER 64</th>\n",
       "      <th>PER_CAPITA_INCOME</th>\n",
       "      <th>HARDSHIP_INDEX</th>\n",
       "    </tr>\n",
       "  </thead>\n",
       "  <tbody>\n",
       "    <tr>\n",
       "      <th>count</th>\n",
       "      <td>77.000000</td>\n",
       "      <td>78.000000</td>\n",
       "      <td>78.000000</td>\n",
       "      <td>78.000000</td>\n",
       "      <td>78.000000</td>\n",
       "      <td>78.000000</td>\n",
       "      <td>78.000000</td>\n",
       "      <td>77.000000</td>\n",
       "    </tr>\n",
       "    <tr>\n",
       "      <th>mean</th>\n",
       "      <td>39.000000</td>\n",
       "      <td>4.920513</td>\n",
       "      <td>21.739744</td>\n",
       "      <td>15.341026</td>\n",
       "      <td>20.330769</td>\n",
       "      <td>35.717949</td>\n",
       "      <td>25597.000000</td>\n",
       "      <td>49.506494</td>\n",
       "    </tr>\n",
       "    <tr>\n",
       "      <th>std</th>\n",
       "      <td>22.371857</td>\n",
       "      <td>3.658981</td>\n",
       "      <td>11.457231</td>\n",
       "      <td>7.499497</td>\n",
       "      <td>11.746514</td>\n",
       "      <td>7.284421</td>\n",
       "      <td>15196.405541</td>\n",
       "      <td>28.690556</td>\n",
       "    </tr>\n",
       "    <tr>\n",
       "      <th>min</th>\n",
       "      <td>1.000000</td>\n",
       "      <td>0.300000</td>\n",
       "      <td>3.300000</td>\n",
       "      <td>4.700000</td>\n",
       "      <td>2.500000</td>\n",
       "      <td>13.500000</td>\n",
       "      <td>8201.000000</td>\n",
       "      <td>1.000000</td>\n",
       "    </tr>\n",
       "    <tr>\n",
       "      <th>25%</th>\n",
       "      <td>20.000000</td>\n",
       "      <td>2.325000</td>\n",
       "      <td>13.350000</td>\n",
       "      <td>9.200000</td>\n",
       "      <td>12.075000</td>\n",
       "      <td>32.150000</td>\n",
       "      <td>15804.750000</td>\n",
       "      <td>25.000000</td>\n",
       "    </tr>\n",
       "    <tr>\n",
       "      <th>50%</th>\n",
       "      <td>39.000000</td>\n",
       "      <td>3.850000</td>\n",
       "      <td>19.050000</td>\n",
       "      <td>13.850000</td>\n",
       "      <td>18.650000</td>\n",
       "      <td>38.050000</td>\n",
       "      <td>21668.500000</td>\n",
       "      <td>50.000000</td>\n",
       "    </tr>\n",
       "    <tr>\n",
       "      <th>75%</th>\n",
       "      <td>58.000000</td>\n",
       "      <td>6.800000</td>\n",
       "      <td>29.150000</td>\n",
       "      <td>20.000000</td>\n",
       "      <td>26.600000</td>\n",
       "      <td>40.500000</td>\n",
       "      <td>28715.750000</td>\n",
       "      <td>74.000000</td>\n",
       "    </tr>\n",
       "    <tr>\n",
       "      <th>max</th>\n",
       "      <td>77.000000</td>\n",
       "      <td>15.800000</td>\n",
       "      <td>56.500000</td>\n",
       "      <td>35.900000</td>\n",
       "      <td>54.800000</td>\n",
       "      <td>51.500000</td>\n",
       "      <td>88669.000000</td>\n",
       "      <td>98.000000</td>\n",
       "    </tr>\n",
       "  </tbody>\n",
       "</table>\n",
       "</div>"
      ],
      "text/plain": [
       "       COMMUNITY_AREA_NUMBER  PERCENT OF HOUSING CROWDED  \\\n",
       "count              77.000000                   78.000000   \n",
       "mean               39.000000                    4.920513   \n",
       "std                22.371857                    3.658981   \n",
       "min                 1.000000                    0.300000   \n",
       "25%                20.000000                    2.325000   \n",
       "50%                39.000000                    3.850000   \n",
       "75%                58.000000                    6.800000   \n",
       "max                77.000000                   15.800000   \n",
       "\n",
       "       PERCENT HOUSEHOLDS BELOW POVERTY  PERCENT AGED 16+ UNEMPLOYED  \\\n",
       "count                         78.000000                    78.000000   \n",
       "mean                          21.739744                    15.341026   \n",
       "std                           11.457231                     7.499497   \n",
       "min                            3.300000                     4.700000   \n",
       "25%                           13.350000                     9.200000   \n",
       "50%                           19.050000                    13.850000   \n",
       "75%                           29.150000                    20.000000   \n",
       "max                           56.500000                    35.900000   \n",
       "\n",
       "       PERCENT AGED 25+ WITHOUT HIGH SCHOOL DIPLOMA  \\\n",
       "count                                     78.000000   \n",
       "mean                                      20.330769   \n",
       "std                                       11.746514   \n",
       "min                                        2.500000   \n",
       "25%                                       12.075000   \n",
       "50%                                       18.650000   \n",
       "75%                                       26.600000   \n",
       "max                                       54.800000   \n",
       "\n",
       "       PERCENT AGED UNDER 18 OR OVER 64  PER_CAPITA_INCOME   HARDSHIP_INDEX  \n",
       "count                         78.000000           78.000000       77.000000  \n",
       "mean                          35.717949        25597.000000       49.506494  \n",
       "std                            7.284421        15196.405541       28.690556  \n",
       "min                           13.500000         8201.000000        1.000000  \n",
       "25%                           32.150000        15804.750000       25.000000  \n",
       "50%                           38.050000        21668.500000       50.000000  \n",
       "75%                           40.500000        28715.750000       74.000000  \n",
       "max                           51.500000        88669.000000       98.000000  "
      ]
     },
     "execution_count": 5,
     "metadata": {},
     "output_type": "execute_result"
    }
   ],
   "source": [
    "df.describe()"
   ]
  },
  {
   "cell_type": "code",
   "execution_count": 6,
   "metadata": {},
   "outputs": [
    {
     "name": "stdout",
     "output_type": "stream",
     "text": [
      "<class 'pandas.core.frame.DataFrame'>\n",
      "RangeIndex: 78 entries, 0 to 77\n",
      "Data columns (total 9 columns):\n",
      " #   Column                                        Non-Null Count  Dtype  \n",
      "---  ------                                        --------------  -----  \n",
      " 0   COMMUNITY_AREA_NUMBER                         77 non-null     float64\n",
      " 1   COMMUNITY_AREA_NAME                           78 non-null     object \n",
      " 2   PERCENT OF HOUSING CROWDED                    78 non-null     float64\n",
      " 3   PERCENT HOUSEHOLDS BELOW POVERTY              78 non-null     float64\n",
      " 4   PERCENT AGED 16+ UNEMPLOYED                   78 non-null     float64\n",
      " 5   PERCENT AGED 25+ WITHOUT HIGH SCHOOL DIPLOMA  78 non-null     float64\n",
      " 6   PERCENT AGED UNDER 18 OR OVER 64              78 non-null     float64\n",
      " 7   PER_CAPITA_INCOME                             78 non-null     int64  \n",
      " 8   HARDSHIP_INDEX                                77 non-null     float64\n",
      "dtypes: float64(7), int64(1), object(1)\n",
      "memory usage: 5.6+ KB\n"
     ]
    }
   ],
   "source": [
    "df.info()"
   ]
  },
  {
   "cell_type": "code",
   "execution_count": 7,
   "metadata": {},
   "outputs": [],
   "source": [
    "df = df.dropna()"
   ]
  },
  {
   "cell_type": "code",
   "execution_count": 8,
   "metadata": {},
   "outputs": [
    {
     "name": "stdout",
     "output_type": "stream",
     "text": [
      "<class 'pandas.core.frame.DataFrame'>\n",
      "Int64Index: 77 entries, 0 to 76\n",
      "Data columns (total 9 columns):\n",
      " #   Column                                        Non-Null Count  Dtype  \n",
      "---  ------                                        --------------  -----  \n",
      " 0   COMMUNITY_AREA_NUMBER                         77 non-null     float64\n",
      " 1   COMMUNITY_AREA_NAME                           77 non-null     object \n",
      " 2   PERCENT OF HOUSING CROWDED                    77 non-null     float64\n",
      " 3   PERCENT HOUSEHOLDS BELOW POVERTY              77 non-null     float64\n",
      " 4   PERCENT AGED 16+ UNEMPLOYED                   77 non-null     float64\n",
      " 5   PERCENT AGED 25+ WITHOUT HIGH SCHOOL DIPLOMA  77 non-null     float64\n",
      " 6   PERCENT AGED UNDER 18 OR OVER 64              77 non-null     float64\n",
      " 7   PER_CAPITA_INCOME                             77 non-null     int64  \n",
      " 8   HARDSHIP_INDEX                                77 non-null     float64\n",
      "dtypes: float64(7), int64(1), object(1)\n",
      "memory usage: 6.0+ KB\n"
     ]
    }
   ],
   "source": [
    "df.info()"
   ]
  },
  {
   "cell_type": "code",
   "execution_count": 9,
   "metadata": {},
   "outputs": [
    {
     "data": {
      "text/html": [
       "<div>\n",
       "<style scoped>\n",
       "    .dataframe tbody tr th:only-of-type {\n",
       "        vertical-align: middle;\n",
       "    }\n",
       "\n",
       "    .dataframe tbody tr th {\n",
       "        vertical-align: top;\n",
       "    }\n",
       "\n",
       "    .dataframe thead th {\n",
       "        text-align: right;\n",
       "    }\n",
       "</style>\n",
       "<table border=\"1\" class=\"dataframe\">\n",
       "  <thead>\n",
       "    <tr style=\"text-align: right;\">\n",
       "      <th></th>\n",
       "      <th>COMMUNITY_AREA_NUMBER</th>\n",
       "      <th>PERCENT OF HOUSING CROWDED</th>\n",
       "      <th>PERCENT HOUSEHOLDS BELOW POVERTY</th>\n",
       "      <th>PERCENT AGED 16+ UNEMPLOYED</th>\n",
       "      <th>PERCENT AGED 25+ WITHOUT HIGH SCHOOL DIPLOMA</th>\n",
       "      <th>PERCENT AGED UNDER 18 OR OVER 64</th>\n",
       "      <th>PER_CAPITA_INCOME</th>\n",
       "      <th>HARDSHIP_INDEX</th>\n",
       "    </tr>\n",
       "  </thead>\n",
       "  <tbody>\n",
       "    <tr>\n",
       "      <th>COMMUNITY_AREA_NUMBER</th>\n",
       "      <td>1.000000</td>\n",
       "      <td>0.002316</td>\n",
       "      <td>0.147414</td>\n",
       "      <td>0.376196</td>\n",
       "      <td>0.175969</td>\n",
       "      <td>0.428011</td>\n",
       "      <td>-0.398344</td>\n",
       "      <td>0.314853</td>\n",
       "    </tr>\n",
       "    <tr>\n",
       "      <th>PERCENT OF HOUSING CROWDED</th>\n",
       "      <td>0.002316</td>\n",
       "      <td>1.000000</td>\n",
       "      <td>0.319336</td>\n",
       "      <td>0.165160</td>\n",
       "      <td>0.875953</td>\n",
       "      <td>0.224593</td>\n",
       "      <td>-0.541711</td>\n",
       "      <td>0.649574</td>\n",
       "    </tr>\n",
       "    <tr>\n",
       "      <th>PERCENT HOUSEHOLDS BELOW POVERTY</th>\n",
       "      <td>0.147414</td>\n",
       "      <td>0.319336</td>\n",
       "      <td>1.000000</td>\n",
       "      <td>0.800046</td>\n",
       "      <td>0.424231</td>\n",
       "      <td>0.435537</td>\n",
       "      <td>-0.566851</td>\n",
       "      <td>0.803267</td>\n",
       "    </tr>\n",
       "    <tr>\n",
       "      <th>PERCENT AGED 16+ UNEMPLOYED</th>\n",
       "      <td>0.376196</td>\n",
       "      <td>0.165160</td>\n",
       "      <td>0.800046</td>\n",
       "      <td>1.000000</td>\n",
       "      <td>0.355474</td>\n",
       "      <td>0.676112</td>\n",
       "      <td>-0.656469</td>\n",
       "      <td>0.792294</td>\n",
       "    </tr>\n",
       "    <tr>\n",
       "      <th>PERCENT AGED 25+ WITHOUT HIGH SCHOOL DIPLOMA</th>\n",
       "      <td>0.175969</td>\n",
       "      <td>0.875953</td>\n",
       "      <td>0.424231</td>\n",
       "      <td>0.355474</td>\n",
       "      <td>1.000000</td>\n",
       "      <td>0.408858</td>\n",
       "      <td>-0.709771</td>\n",
       "      <td>0.802538</td>\n",
       "    </tr>\n",
       "    <tr>\n",
       "      <th>PERCENT AGED UNDER 18 OR OVER 64</th>\n",
       "      <td>0.428011</td>\n",
       "      <td>0.224593</td>\n",
       "      <td>0.435537</td>\n",
       "      <td>0.676112</td>\n",
       "      <td>0.408858</td>\n",
       "      <td>1.000000</td>\n",
       "      <td>-0.754763</td>\n",
       "      <td>0.690844</td>\n",
       "    </tr>\n",
       "    <tr>\n",
       "      <th>PER_CAPITA_INCOME</th>\n",
       "      <td>-0.398344</td>\n",
       "      <td>-0.541711</td>\n",
       "      <td>-0.566851</td>\n",
       "      <td>-0.656469</td>\n",
       "      <td>-0.709771</td>\n",
       "      <td>-0.754763</td>\n",
       "      <td>1.000000</td>\n",
       "      <td>-0.849167</td>\n",
       "    </tr>\n",
       "    <tr>\n",
       "      <th>HARDSHIP_INDEX</th>\n",
       "      <td>0.314853</td>\n",
       "      <td>0.649574</td>\n",
       "      <td>0.803267</td>\n",
       "      <td>0.792294</td>\n",
       "      <td>0.802538</td>\n",
       "      <td>0.690844</td>\n",
       "      <td>-0.849167</td>\n",
       "      <td>1.000000</td>\n",
       "    </tr>\n",
       "  </tbody>\n",
       "</table>\n",
       "</div>"
      ],
      "text/plain": [
       "                                              COMMUNITY_AREA_NUMBER  \\\n",
       "COMMUNITY_AREA_NUMBER                                      1.000000   \n",
       "PERCENT OF HOUSING CROWDED                                 0.002316   \n",
       "PERCENT HOUSEHOLDS BELOW POVERTY                           0.147414   \n",
       "PERCENT AGED 16+ UNEMPLOYED                                0.376196   \n",
       "PERCENT AGED 25+ WITHOUT HIGH SCHOOL DIPLOMA               0.175969   \n",
       "PERCENT AGED UNDER 18 OR OVER 64                           0.428011   \n",
       "PER_CAPITA_INCOME                                         -0.398344   \n",
       "HARDSHIP_INDEX                                             0.314853   \n",
       "\n",
       "                                              PERCENT OF HOUSING CROWDED  \\\n",
       "COMMUNITY_AREA_NUMBER                                           0.002316   \n",
       "PERCENT OF HOUSING CROWDED                                      1.000000   \n",
       "PERCENT HOUSEHOLDS BELOW POVERTY                                0.319336   \n",
       "PERCENT AGED 16+ UNEMPLOYED                                     0.165160   \n",
       "PERCENT AGED 25+ WITHOUT HIGH SCHOOL DIPLOMA                    0.875953   \n",
       "PERCENT AGED UNDER 18 OR OVER 64                                0.224593   \n",
       "PER_CAPITA_INCOME                                              -0.541711   \n",
       "HARDSHIP_INDEX                                                  0.649574   \n",
       "\n",
       "                                              PERCENT HOUSEHOLDS BELOW POVERTY  \\\n",
       "COMMUNITY_AREA_NUMBER                                                 0.147414   \n",
       "PERCENT OF HOUSING CROWDED                                            0.319336   \n",
       "PERCENT HOUSEHOLDS BELOW POVERTY                                      1.000000   \n",
       "PERCENT AGED 16+ UNEMPLOYED                                           0.800046   \n",
       "PERCENT AGED 25+ WITHOUT HIGH SCHOOL DIPLOMA                          0.424231   \n",
       "PERCENT AGED UNDER 18 OR OVER 64                                      0.435537   \n",
       "PER_CAPITA_INCOME                                                    -0.566851   \n",
       "HARDSHIP_INDEX                                                        0.803267   \n",
       "\n",
       "                                              PERCENT AGED 16+ UNEMPLOYED  \\\n",
       "COMMUNITY_AREA_NUMBER                                            0.376196   \n",
       "PERCENT OF HOUSING CROWDED                                       0.165160   \n",
       "PERCENT HOUSEHOLDS BELOW POVERTY                                 0.800046   \n",
       "PERCENT AGED 16+ UNEMPLOYED                                      1.000000   \n",
       "PERCENT AGED 25+ WITHOUT HIGH SCHOOL DIPLOMA                     0.355474   \n",
       "PERCENT AGED UNDER 18 OR OVER 64                                 0.676112   \n",
       "PER_CAPITA_INCOME                                               -0.656469   \n",
       "HARDSHIP_INDEX                                                   0.792294   \n",
       "\n",
       "                                              PERCENT AGED 25+ WITHOUT HIGH SCHOOL DIPLOMA  \\\n",
       "COMMUNITY_AREA_NUMBER                                                             0.175969   \n",
       "PERCENT OF HOUSING CROWDED                                                        0.875953   \n",
       "PERCENT HOUSEHOLDS BELOW POVERTY                                                  0.424231   \n",
       "PERCENT AGED 16+ UNEMPLOYED                                                       0.355474   \n",
       "PERCENT AGED 25+ WITHOUT HIGH SCHOOL DIPLOMA                                      1.000000   \n",
       "PERCENT AGED UNDER 18 OR OVER 64                                                  0.408858   \n",
       "PER_CAPITA_INCOME                                                                -0.709771   \n",
       "HARDSHIP_INDEX                                                                    0.802538   \n",
       "\n",
       "                                              PERCENT AGED UNDER 18 OR OVER 64  \\\n",
       "COMMUNITY_AREA_NUMBER                                                 0.428011   \n",
       "PERCENT OF HOUSING CROWDED                                            0.224593   \n",
       "PERCENT HOUSEHOLDS BELOW POVERTY                                      0.435537   \n",
       "PERCENT AGED 16+ UNEMPLOYED                                           0.676112   \n",
       "PERCENT AGED 25+ WITHOUT HIGH SCHOOL DIPLOMA                          0.408858   \n",
       "PERCENT AGED UNDER 18 OR OVER 64                                      1.000000   \n",
       "PER_CAPITA_INCOME                                                    -0.754763   \n",
       "HARDSHIP_INDEX                                                        0.690844   \n",
       "\n",
       "                                              PER_CAPITA_INCOME   \\\n",
       "COMMUNITY_AREA_NUMBER                                  -0.398344   \n",
       "PERCENT OF HOUSING CROWDED                             -0.541711   \n",
       "PERCENT HOUSEHOLDS BELOW POVERTY                       -0.566851   \n",
       "PERCENT AGED 16+ UNEMPLOYED                            -0.656469   \n",
       "PERCENT AGED 25+ WITHOUT HIGH SCHOOL DIPLOMA           -0.709771   \n",
       "PERCENT AGED UNDER 18 OR OVER 64                       -0.754763   \n",
       "PER_CAPITA_INCOME                                       1.000000   \n",
       "HARDSHIP_INDEX                                         -0.849167   \n",
       "\n",
       "                                              HARDSHIP_INDEX  \n",
       "COMMUNITY_AREA_NUMBER                               0.314853  \n",
       "PERCENT OF HOUSING CROWDED                          0.649574  \n",
       "PERCENT HOUSEHOLDS BELOW POVERTY                    0.803267  \n",
       "PERCENT AGED 16+ UNEMPLOYED                         0.792294  \n",
       "PERCENT AGED 25+ WITHOUT HIGH SCHOOL DIPLOMA        0.802538  \n",
       "PERCENT AGED UNDER 18 OR OVER 64                    0.690844  \n",
       "PER_CAPITA_INCOME                                  -0.849167  \n",
       "HARDSHIP_INDEX                                      1.000000  "
      ]
     },
     "execution_count": 9,
     "metadata": {},
     "output_type": "execute_result"
    }
   ],
   "source": [
    "df.corr()"
   ]
  },
  {
   "cell_type": "code",
   "execution_count": 10,
   "metadata": {},
   "outputs": [
    {
     "data": {
      "text/plain": [
       "<Figure size 640x480 with 0 Axes>"
      ]
     },
     "metadata": {},
     "output_type": "display_data"
    },
    {
     "data": {
      "text/plain": [
       "<Figure size 2000x2000 with 72 Axes>"
      ]
     },
     "metadata": {},
     "output_type": "display_data"
    }
   ],
   "source": [
    "import matplotlib.pyplot as plt\n",
    "import seaborn as sns\n",
    "\n",
    "# Gunakan pairplot() dari seaborn (sns) modul untuk menggambarkan hubungan setiap feature.\n",
    "plt.figure()\n",
    "sns.pairplot(df)\n",
    "plt.show()"
   ]
  },
  {
   "cell_type": "code",
   "execution_count": null,
   "metadata": {},
   "outputs": [],
   "source": []
  },
  {
   "cell_type": "code",
   "execution_count": null,
   "metadata": {},
   "outputs": [],
   "source": []
  },
  {
   "cell_type": "code",
   "execution_count": null,
   "metadata": {},
   "outputs": [],
   "source": []
  },
  {
   "cell_type": "markdown",
   "metadata": {},
   "source": [
    "# Running Regression Model"
   ]
  },
  {
   "cell_type": "code",
   "execution_count": 11,
   "metadata": {},
   "outputs": [],
   "source": [
    "#Normalisasi data df['PER_CAPITA_INCOME ']\n",
    "df['PER_CAPITA_INCOME '] = df['PER_CAPITA_INCOME '] / 1000"
   ]
  },
  {
   "cell_type": "code",
   "execution_count": 12,
   "metadata": {},
   "outputs": [],
   "source": [
    "#drop column COMMUNITY_AREA_NUMBER & COMMUNITY_AREA_NAME\n",
    "df.drop(columns=['COMMUNITY_AREA_NUMBER','COMMUNITY_AREA_NAME'],inplace=True)"
   ]
  },
  {
   "cell_type": "code",
   "execution_count": 13,
   "metadata": {},
   "outputs": [],
   "source": [
    "#Memisah antara features & target\n",
    "X= df.drop(\"HARDSHIP_INDEX\",axis=1)\n",
    "y= df[\"HARDSHIP_INDEX\"]"
   ]
  },
  {
   "cell_type": "code",
   "execution_count": 14,
   "metadata": {},
   "outputs": [],
   "source": [
    "# from sklearn.preprocessing import MinMaxScaler  \n",
    "# #Define MinMaxScaler as scaler  \n",
    "# scaler = MinMaxScaler(feature_range=(0,1))  \n",
    "# #Apply fit_transfrom to scale selected feature  \n",
    "# X = scaler.fit_transform(X)\n",
    "# #Cheking min and max value of the scaling_column\n",
    "# print(pd.DataFrame(X).describe().T[['min','max']])"
   ]
  },
  {
   "cell_type": "code",
   "execution_count": 15,
   "metadata": {},
   "outputs": [],
   "source": [
    "# y = np.array(y)"
   ]
  },
  {
   "cell_type": "code",
   "execution_count": 16,
   "metadata": {},
   "outputs": [
    {
     "name": "stdout",
     "output_type": "stream",
     "text": [
      "Shape of X_train : (53, 6)\n",
      "Shape of y_train : (53,)\n",
      "Shape of X_test : (24, 6)\n",
      "Shape of y_test : (24,)\n"
     ]
    }
   ],
   "source": [
    "# splitting the data\n",
    "from sklearn.model_selection import train_test_split\n",
    "X_train, X_test, y_train, y_test = train_test_split(X, y, test_size = 0.3, random_state = 1)\n",
    "# checking the shapes  \n",
    "print('Shape of X_train :', X_train.shape)\n",
    "print('Shape of y_train :', y_train.shape)\n",
    "print('Shape of X_test :', X_test.shape)\n",
    "print('Shape of y_test :', y_test.shape)\n",
    "\n",
    "##import regressor from Scikit-Learn\n",
    "from  sklearn.linear_model import LinearRegression \n",
    "# Call the regressor\n",
    "reg = LinearRegression()\n",
    "# Fit the regressor to the training data  \n",
    "reg = reg.fit(X_train, y_train)\n",
    "# Apply the regressor/model to the test data  \n",
    "y_pred = reg.predict(X_test)"
   ]
  },
  {
   "cell_type": "markdown",
   "metadata": {},
   "source": [
    "# Semakin Kecil nilai MSE,MAE & RMSE maka semakin baik performansi model"
   ]
  },
  {
   "cell_type": "code",
   "execution_count": 17,
   "metadata": {},
   "outputs": [
    {
     "name": "stdout",
     "output_type": "stream",
     "text": [
      "Mean squared error of testing set: 29.95060838286589\n",
      "Mean absolute error of testing set: 3.8537872590532154\n",
      "Root Mean Squared Error of testing set: 5.472714900564974\n",
      "r2_score of testing set: 0.9625682380911935\n"
     ]
    },
    {
     "data": {
      "image/png": "[encoded data removed]",
      "text/plain": [
       "<Figure size 432x288 with 1 Axes>"
      ]
     },
     "metadata": {
      "needs_background": "light"
     },
     "output_type": "display_data"
    }
   ],
   "source": [
    "from sklearn.metrics import mean_squared_error, mean_absolute_error, r2_score  \n",
    "import numpy as np\n",
    "import matplotlib.pyplot as plt \n",
    "\n",
    "#Calculating MSE, lower the value better it is. 0 means perfect prediction\n",
    "mse = mean_squared_error(y_test, y_pred)\n",
    "print('Mean squared error of testing set:', mse)\n",
    "#Calculating MAE\n",
    "mae = mean_absolute_error(y_test, y_pred)\n",
    "print('Mean absolute error of testing set:', mae)\n",
    "#Calculating RMSE\n",
    "rmse = np.sqrt(mse)\n",
    "print('Root Mean Squared Error of testing set:', rmse)\n",
    "#Calculating r2_score\n",
    "r2_score = r2_score(y_test, y_pred)\n",
    "print('r2_score of testing set:', r2_score)\n",
    "\n",
    "#Plotting y_test dan y_pred\n",
    "plt.scatter(y_test, y_pred, c = 'green')\n",
    "plt.xlabel('HARDSHIP_INDEX Actual')\n",
    "plt.ylabel('Predicted value')\n",
    "plt.title('True value vs predicted value : Linear Regression')\n",
    "plt.show()"
   ]
  },
  {
   "cell_type": "code",
   "execution_count": null,
   "metadata": {},
   "outputs": [],
   "source": []
  },
  {
   "cell_type": "code",
   "execution_count": 18,
   "metadata": {},
   "outputs": [
    {
     "name": "stdout",
     "output_type": "stream",
     "text": [
      "Shape of X_train : (53, 6)\n",
      "Shape of y_train : (53,)\n",
      "Shape of X_test : (24, 6)\n",
      "Shape of y_test : (24,)\n"
     ]
    }
   ],
   "source": [
    "# splitting the data\n",
    "from sklearn.model_selection import train_test_split\n",
    "X_train, X_test, y_train, y_test = train_test_split(X, y, test_size = 0.3, random_state = 1)\n",
    "# checking the shapes  \n",
    "print('Shape of X_train :', X_train.shape)\n",
    "print('Shape of y_train :', y_train.shape)\n",
    "print('Shape of X_test :', X_test.shape)\n",
    "print('Shape of y_test :', y_test.shape)\n",
    "\n",
    "from sklearn.svm import SVR \n",
    "# Call the regressor\n",
    "SVR = SVR()\n",
    "# Fit the regressor to the training data  \n",
    "model_svr = SVR.fit(X_train, y_train)\n",
    "# Apply the regressor/model to the test data  \n",
    "y_pred_SVR = model_svr.predict(X_test)"
   ]
  },
  {
   "cell_type": "code",
   "execution_count": 19,
   "metadata": {},
   "outputs": [
    {
     "name": "stdout",
     "output_type": "stream",
     "text": [
      "Mean squared error of testing set: 437.494743912552\n",
      "Mean absolute error of testing set: 18.366583010777408\n",
      "Root Mean Squared Error of testing set: 20.916375018452694\n",
      "r2_score of testing set: 0.4532264960648542\n"
     ]
    },
    {
     "data": {
      "image/png": "[encoded data removed]",
      "text/plain": [
       "<Figure size 432x288 with 1 Axes>"
      ]
     },
     "metadata": {
      "needs_background": "light"
     },
     "output_type": "display_data"
    }
   ],
   "source": [
    "from sklearn.metrics import mean_squared_error, mean_absolute_error, r2_score  \n",
    "import numpy as np\n",
    "import matplotlib.pyplot as plt \n",
    "\n",
    "#Calculating MSE, lower the value better it is. 0 means perfect prediction\n",
    "mse = mean_squared_error(y_test, y_pred_SVR)\n",
    "print('Mean squared error of testing set:', mse)\n",
    "#Calculating MAE\n",
    "mae = mean_absolute_error(y_test, y_pred_SVR)\n",
    "print('Mean absolute error of testing set:', mae)\n",
    "#Calculating RMSE\n",
    "rmse = np.sqrt(mse)\n",
    "print('Root Mean Squared Error of testing set:', rmse)\n",
    "#Calculating r2_score\n",
    "r2_score = r2_score(y_test, y_pred_SVR)\n",
    "print('r2_score of testing set:', r2_score)\n",
    "\n",
    "#Plotting y_test dan y_pred\n",
    "plt.scatter(y_test, y_pred_SVR, c = 'green')\n",
    "plt.xlabel('HARDSHIP_INDEX Actual')\n",
    "plt.ylabel('Predicted value')\n",
    "plt.title('True value vs predicted value : Linear Regression')\n",
    "plt.show()"
   ]
  },
  {
   "cell_type": "code",
   "execution_count": null,
   "metadata": {},
   "outputs": [],
   "source": []
  },
  {
   "cell_type": "code",
   "execution_count": 20,
   "metadata": {},
   "outputs": [
    {
     "name": "stdout",
     "output_type": "stream",
     "text": [
      "Shape of X_train : (53, 6)\n",
      "Shape of y_train : (53,)\n",
      "Shape of X_test : (24, 6)\n",
      "Shape of y_test : (24,)\n"
     ]
    },
    {
     "name": "stderr",
     "output_type": "stream",
     "text": [
      "C:\\Users\\201802050007\\AppData\\Local\\Continuum\\anaconda3\\lib\\site-packages\\sklearn\\linear_model\\_logistic.py:765: ConvergenceWarning: lbfgs failed to converge (status=1):\n",
      "STOP: TOTAL NO. of ITERATIONS REACHED LIMIT.\n",
      "\n",
      "Increase the number of iterations (max_iter) or scale the data as shown in:\n",
      "    https://scikit-learn.org/stable/modules/preprocessing.html\n",
      "Please also refer to the documentation for alternative solver options:\n",
      "    https://scikit-learn.org/stable/modules/linear_model.html#logistic-regression\n",
      "  extra_warning_msg=_LOGISTIC_SOLVER_CONVERGENCE_MSG)\n"
     ]
    }
   ],
   "source": [
    "# splitting the data\n",
    "from sklearn.model_selection import train_test_split\n",
    "X_train, X_test, y_train, y_test = train_test_split(X, y, test_size = 0.3, random_state = 1)\n",
    "# checking the shapes  \n",
    "print('Shape of X_train :', X_train.shape)\n",
    "print('Shape of y_train :', y_train.shape)\n",
    "print('Shape of X_test :', X_test.shape)\n",
    "print('Shape of y_test :', y_test.shape)\n",
    "\n",
    "from sklearn.linear_model import LogisticRegression\n",
    "# Call the regressor\n",
    "LogReg = LogisticRegression()\n",
    "# Fit the regressor to the training data  \n",
    "model_LogReg = LogReg.fit(X_train, y_train)\n",
    "# Apply the regressor/model to the test data  \n",
    "y_pred_LogReg = model_LogReg.predict(X_test)"
   ]
  },
  {
   "cell_type": "code",
   "execution_count": 21,
   "metadata": {},
   "outputs": [
    {
     "name": "stdout",
     "output_type": "stream",
     "text": [
      "Mean squared error of testing set: 86.29166666666667\n",
      "Mean absolute error of testing set: 7.708333333333333\n",
      "Root Mean Squared Error of testing set: 9.289330797569148\n",
      "r2_score of testing set: 0.8921541399062662\n"
     ]
    },
    {
     "data": {
      "image/png": "[encoded data removed]",
      "text/plain": [
       "<Figure size 432x288 with 1 Axes>"
      ]
     },
     "metadata": {
      "needs_background": "light"
     },
     "output_type": "display_data"
    }
   ],
   "source": [
    "from sklearn.metrics import mean_squared_error, mean_absolute_error, r2_score  \n",
    "import numpy as np\n",
    "import matplotlib.pyplot as plt \n",
    "\n",
    "#Calculating MSE, lower the value better it is. 0 means perfect prediction\n",
    "mse = mean_squared_error(y_test, y_pred_LogReg)\n",
    "print('Mean squared error of testing set:', mse)\n",
    "#Calculating MAE\n",
    "mae = mean_absolute_error(y_test, y_pred_LogReg)\n",
    "print('Mean absolute error of testing set:', mae)\n",
    "#Calculating RMSE\n",
    "rmse = np.sqrt(mse)\n",
    "print('Root Mean Squared Error of testing set:', rmse)\n",
    "#Calculating r2_score\n",
    "r2_score = r2_score(y_test, y_pred_LogReg)\n",
    "print('r2_score of testing set:', r2_score)\n",
    "\n",
    "#Plotting y_test dan y_pred\n",
    "plt.scatter(y_test, y_pred_LogReg, c = 'green')\n",
    "plt.xlabel('HARDSHIP_INDEX Actual')\n",
    "plt.ylabel('Predicted value')\n",
    "plt.title('True value vs predicted value : Linear Regression')\n",
    "plt.show()"
   ]
  },
  {
   "cell_type": "code",
   "execution_count": 28,
   "metadata": {},
   "outputs": [
    {
     "name": "stdout",
     "output_type": "stream",
     "text": [
      "Shape of X_train : (53, 6)\n",
      "Shape of y_train : (53,)\n",
      "Shape of X_test : (24, 6)\n",
      "Shape of y_test : (24,)\n"
     ]
    }
   ],
   "source": [
    "# splitting the data\n",
    "from sklearn.model_selection import train_test_split\n",
    "X_train, X_test, y_train, y_test = train_test_split(X, y, test_size = 0.3, random_state = 1)\n",
    "# checking the shapes  \n",
    "print('Shape of X_train :', X_train.shape)\n",
    "print('Shape of y_train :', y_train.shape)\n",
    "print('Shape of X_test :', X_test.shape)\n",
    "print('Shape of y_test :', y_test.shape)\n",
    "\n",
    "from sklearn.linear_model import BayesianRidge\n",
    "# Call the regressor\n",
    "BR = BayesianRidge(compute_score=True)\n",
    "# Fit the regressor to the training data  \n",
    "model_BR = BR.fit(X_train, y_train)\n",
    "# Apply the regressor/model to the test data  \n",
    "y_pred_BR = model_BR.predict(X_test)"
   ]
  },
  {
   "cell_type": "code",
   "execution_count": 29,
   "metadata": {},
   "outputs": [
    {
     "name": "stdout",
     "output_type": "stream",
     "text": [
      "Mean squared error of testing set: 30.01519228501242\n",
      "Mean absolute error of testing set: 3.889171977175117\n",
      "Root Mean Squared Error of testing set: 5.478612259049952\n",
      "r2_score of testing set: 0.9624875222266812\n"
     ]
    },
    {
     "data": {
      "image/png": "[encoded data removed]",
      "text/plain": [
       "<Figure size 432x288 with 1 Axes>"
      ]
     },
     "metadata": {
      "needs_background": "light"
     },
     "output_type": "display_data"
    }
   ],
   "source": [
    "from sklearn.metrics import mean_squared_error, mean_absolute_error, r2_score  \n",
    "import numpy as np\n",
    "import matplotlib.pyplot as plt \n",
    "\n",
    "#Calculating MSE, lower the value better it is. 0 means perfect prediction\n",
    "mse = mean_squared_error(y_test, y_pred_BR)\n",
    "print('Mean squared error of testing set:', mse)\n",
    "#Calculating MAE\n",
    "mae = mean_absolute_error(y_test, y_pred_BR)\n",
    "print('Mean absolute error of testing set:', mae)\n",
    "#Calculating RMSE\n",
    "rmse = np.sqrt(mse)\n",
    "print('Root Mean Squared Error of testing set:', rmse)\n",
    "#Calculating r2_score\n",
    "r2_score = r2_score(y_test, y_pred_BR)\n",
    "print('r2_score of testing set:', r2_score)\n",
    "\n",
    "#Plotting y_test dan y_pred\n",
    "plt.scatter(y_test, y_pred_LogReg, c = 'green')\n",
    "plt.xlabel('HARDSHIP_INDEX Actual')\n",
    "plt.ylabel('Predicted value')\n",
    "plt.title('True value vs predicted value : Linear Regression')\n",
    "plt.show()"
   ]
  },
  {
   "cell_type": "code",
   "execution_count": null,
   "metadata": {},
   "outputs": [],
   "source": []
  }
 ],
 "metadata": {
  "kernelspec": {
   "display_name": "Python 3",
   "language": "python",
   "name": "python3"
  },
  "language_info": {
   "codemirror_mode": {
    "name": "ipython",
    "version": 3
   },
   "file_extension": ".py",
   "mimetype": "text/x-python",
   "name": "python",
   "nbconvert_exporter": "python",
   "pygments_lexer": "ipython3",
   "version": "3.6.6"
  }
 },
 "nbformat": 4,
 "nbformat_minor": 2
}
